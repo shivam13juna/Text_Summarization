{
 "cells": [
  {
   "cell_type": "code",
   "execution_count": 276,
   "metadata": {},
   "outputs": [],
   "source": [
    "import numpy as np\n",
    "import pandas as pd\n",
    "import tensorflow as tf\n",
    "import keras\n",
    "from nltk.tokenize import TweetTokenizer,word_tokenize,sent_tokenize,wordpunct_tokenize\n",
    "from collections import Counter\n"
   ]
  },
  {
   "cell_type": "code",
   "execution_count": 277,
   "metadata": {},
   "outputs": [],
   "source": [
    "see=np.load('loss.npy')"
   ]
  },
  {
   "cell_type": "code",
   "execution_count": 278,
   "metadata": {},
   "outputs": [],
   "source": [
    "import matplotlib.pyplot as plt\n",
    "%matplotlib inline"
   ]
  },
  {
   "cell_type": "code",
   "execution_count": 279,
   "metadata": {},
   "outputs": [
    {
     "data": {
      "text/plain": [
       "[<matplotlib.lines.Line2D at 0x7f84284a6668>]"
      ]
     },
     "execution_count": 279,
     "metadata": {},
     "output_type": "execute_result"
    },
    {
     "data": {
      "image/png": "[encoded data removed]",
      "text/plain": [
       "<Figure size 1440x720 with 1 Axes>"
      ]
     },
     "metadata": {},
     "output_type": "display_data"
    }
   ],
   "source": [
    "plt.figure(figsize=(20,10))\n",
    "plt.plot(see)"
   ]
  },
  {
   "cell_type": "code",
   "execution_count": null,
   "metadata": {},
   "outputs": [],
   "source": []
  },
  {
   "cell_type": "code",
   "execution_count": null,
   "metadata": {},
   "outputs": [],
   "source": []
  },
  {
   "cell_type": "code",
   "execution_count": null,
   "metadata": {},
   "outputs": [],
   "source": []
  },
  {
   "cell_type": "markdown",
   "metadata": {},
   "source": [
    "# Reading Dataset"
   ]
  },
  {
   "cell_type": "code",
   "execution_count": 280,
   "metadata": {},
   "outputs": [],
   "source": [
    "summ=pd.read_csv('news_summary.csv',encoding='latin')"
   ]
  },
  {
   "cell_type": "code",
   "execution_count": 281,
   "metadata": {},
   "outputs": [
    {
     "data": {
      "text/html": [
       "<div>\n",
       "<style scoped>\n",
       "    .dataframe tbody tr th:only-of-type {\n",
       "        vertical-align: middle;\n",
       "    }\n",
       "\n",
       "    .dataframe tbody tr th {\n",
       "        vertical-align: top;\n",
       "    }\n",
       "\n",
       "    .dataframe thead th {\n",
       "        text-align: right;\n",
       "    }\n",
       "</style>\n",
       "<table border=\"1\" class=\"dataframe\">\n",
       "  <thead>\n",
       "    <tr style=\"text-align: right;\">\n",
       "      <th></th>\n",
       "      <th>author</th>\n",
       "      <th>date</th>\n",
       "      <th>headlines</th>\n",
       "      <th>read_more</th>\n",
       "      <th>text</th>\n",
       "      <th>ctext</th>\n",
       "    </tr>\n",
       "  </thead>\n",
       "  <tbody>\n",
       "    <tr>\n",
       "      <th>0</th>\n",
       "      <td>Chhavi Tyagi</td>\n",
       "      <td>03 Aug 2017,Thursday</td>\n",
       "      <td>Daman &amp; Diu revokes mandatory Rakshabandhan in...</td>\n",
       "      <td>http://www.hindustantimes.com/india-news/raksh...</td>\n",
       "      <td>The Administration of Union Territory Daman an...</td>\n",
       "      <td>The Daman and Diu administration on Wednesday ...</td>\n",
       "    </tr>\n",
       "    <tr>\n",
       "      <th>1</th>\n",
       "      <td>Daisy Mowke</td>\n",
       "      <td>03 Aug 2017,Thursday</td>\n",
       "      <td>Malaika slams user who trolled her for 'divorc...</td>\n",
       "      <td>http://www.hindustantimes.com/bollywood/malaik...</td>\n",
       "      <td>Malaika Arora slammed an Instagram user who tr...</td>\n",
       "      <td>From her special numbers to TV?appearances, Bo...</td>\n",
       "    </tr>\n",
       "    <tr>\n",
       "      <th>2</th>\n",
       "      <td>Arshiya Chopra</td>\n",
       "      <td>03 Aug 2017,Thursday</td>\n",
       "      <td>'Virgin' now corrected to 'Unmarried' in IGIMS...</td>\n",
       "      <td>http://www.hindustantimes.com/patna/bihar-igim...</td>\n",
       "      <td>The Indira Gandhi Institute of Medical Science...</td>\n",
       "      <td>The Indira Gandhi Institute of Medical Science...</td>\n",
       "    </tr>\n",
       "    <tr>\n",
       "      <th>3</th>\n",
       "      <td>Sumedha Sehra</td>\n",
       "      <td>03 Aug 2017,Thursday</td>\n",
       "      <td>Aaj aapne pakad liya: LeT man Dujana before be...</td>\n",
       "      <td>http://indiatoday.intoday.in/story/abu-dujana-...</td>\n",
       "      <td>Lashkar-e-Taiba's Kashmir commander Abu Dujana...</td>\n",
       "      <td>Lashkar-e-Taiba's Kashmir commander Abu Dujana...</td>\n",
       "    </tr>\n",
       "    <tr>\n",
       "      <th>4</th>\n",
       "      <td>Aarushi Maheshwari</td>\n",
       "      <td>03 Aug 2017,Thursday</td>\n",
       "      <td>Hotel staff to get training to spot signs of s...</td>\n",
       "      <td>http://indiatoday.intoday.in/story/sex-traffic...</td>\n",
       "      <td>Hotels in Maharashtra will train their staff t...</td>\n",
       "      <td>Hotels in Mumbai and other Indian cities are t...</td>\n",
       "    </tr>\n",
       "  </tbody>\n",
       "</table>\n",
       "</div>"
      ],
      "text/plain": [
       "               author                  date  \\\n",
       "0        Chhavi Tyagi  03 Aug 2017,Thursday   \n",
       "1         Daisy Mowke  03 Aug 2017,Thursday   \n",
       "2      Arshiya Chopra  03 Aug 2017,Thursday   \n",
       "3       Sumedha Sehra  03 Aug 2017,Thursday   \n",
       "4  Aarushi Maheshwari  03 Aug 2017,Thursday   \n",
       "\n",
       "                                           headlines  \\\n",
       "0  Daman & Diu revokes mandatory Rakshabandhan in...   \n",
       "1  Malaika slams user who trolled her for 'divorc...   \n",
       "2  'Virgin' now corrected to 'Unmarried' in IGIMS...   \n",
       "3  Aaj aapne pakad liya: LeT man Dujana before be...   \n",
       "4  Hotel staff to get training to spot signs of s...   \n",
       "\n",
       "                                           read_more  \\\n",
       "0  http://www.hindustantimes.com/india-news/raksh...   \n",
       "1  http://www.hindustantimes.com/bollywood/malaik...   \n",
       "2  http://www.hindustantimes.com/patna/bihar-igim...   \n",
       "3  http://indiatoday.intoday.in/story/abu-dujana-...   \n",
       "4  http://indiatoday.intoday.in/story/sex-traffic...   \n",
       "\n",
       "                                                text  \\\n",
       "0  The Administration of Union Territory Daman an...   \n",
       "1  Malaika Arora slammed an Instagram user who tr...   \n",
       "2  The Indira Gandhi Institute of Medical Science...   \n",
       "3  Lashkar-e-Taiba's Kashmir commander Abu Dujana...   \n",
       "4  Hotels in Maharashtra will train their staff t...   \n",
       "\n",
       "                                               ctext  \n",
       "0  The Daman and Diu administration on Wednesday ...  \n",
       "1  From her special numbers to TV?appearances, Bo...  \n",
       "2  The Indira Gandhi Institute of Medical Science...  \n",
       "3  Lashkar-e-Taiba's Kashmir commander Abu Dujana...  \n",
       "4  Hotels in Mumbai and other Indian cities are t...  "
      ]
     },
     "execution_count": 281,
     "metadata": {},
     "output_type": "execute_result"
    }
   ],
   "source": [
    "summ.head()"
   ]
  },
  {
   "cell_type": "code",
   "execution_count": 282,
   "metadata": {},
   "outputs": [
    {
     "data": {
      "text/plain": [
       "'Daman & Diu revokes mandatory Rakshabandhan in offices order'"
      ]
     },
     "execution_count": 282,
     "metadata": {},
     "output_type": "execute_result"
    }
   ],
   "source": [
    "summ.loc[0]['headlines'] #The content i'll be trying to summarize"
   ]
  },
  {
   "cell_type": "code",
   "execution_count": 283,
   "metadata": {},
   "outputs": [
    {
     "data": {
      "text/plain": [
       "'The Administration of Union Territory Daman and Diu has revoked its order that made it compulsory for women to tie rakhis to their male colleagues on the occasion of Rakshabandhan on August 7. The administration was forced to withdraw the decision within 24 hours of issuing the circular after it received flak from employees and was slammed on social media.'"
      ]
     },
     "execution_count": 283,
     "metadata": {},
     "output_type": "execute_result"
    }
   ],
   "source": [
    "summ.loc[0]['text']"
   ]
  },
  {
   "cell_type": "code",
   "execution_count": 284,
   "metadata": {},
   "outputs": [
    {
     "data": {
      "text/plain": [
       "'The Daman and Diu administration on Wednesday withdrew a circular that asked women staff to tie rakhis on male colleagues after the order triggered a backlash from employees and was ripped apart on social media.The union territory?s administration was forced to retreat within 24 hours of issuing the circular that made it compulsory for its staff to celebrate Rakshabandhan at workplace.?It has been decided to celebrate the festival of Rakshabandhan on August 7. In this connection, all offices/ departments shall remain open and celebrate the festival collectively at a suitable time wherein all the lady staff shall tie rakhis to their colleagues,? the order, issued on August 1 by Gurpreet Singh, deputy secretary (personnel), had said.To ensure that no one skipped office, an attendance report was to be sent to the government the next evening.The two notifications ? one mandating the celebration of Rakshabandhan (left) and the other withdrawing the mandate (right) ? were issued by the Daman and Diu administration a day apart. The circular was withdrawn through a one-line order issued late in the evening by the UT?s department of personnel and administrative reforms.?The circular is ridiculous. There are sensitivities involved. How can the government dictate who I should tie rakhi to? We should maintain the professionalism of a workplace? an official told Hindustan Times earlier in the day. She refused to be identified.The notice was issued on Daman and Diu administrator and former Gujarat home minister Praful Kodabhai Patel?s direction, sources said.Rakshabandhan, a celebration of the bond between brothers and sisters, is one of several Hindu festivities and rituals that are no longer confined of private, family affairs but have become tools to push politic al ideologies.In 2014, the year BJP stormed to power at the Centre, Rashtriya Swayamsevak Sangh (RSS) chief Mohan Bhagwat said the festival had ?national significance? and should be celebrated widely ?to protect Hindu culture and live by the values enshrined in it?. The RSS is the ideological parent of the ruling BJP.Last year, women ministers in the Modi government went to the border areas to celebrate the festival with soldiers. A year before, all cabinet ministers were asked to go to their constituencies for the festival.'"
      ]
     },
     "execution_count": 284,
     "metadata": {},
     "output_type": "execute_result"
    }
   ],
   "source": [
    "summ.loc[0]['ctext'] #The content we'll be feeding encoder, and it's the content to be input for summarization"
   ]
  },
  {
   "cell_type": "code",
   "execution_count": 285,
   "metadata": {},
   "outputs": [
    {
     "data": {
      "text/plain": [
       "Index(['author', 'date', 'headlines', 'read_more', 'text', 'ctext'], dtype='object')"
      ]
     },
     "execution_count": 285,
     "metadata": {},
     "output_type": "execute_result"
    }
   ],
   "source": [
    "summ.columns"
   ]
  },
  {
   "cell_type": "code",
   "execution_count": 286,
   "metadata": {},
   "outputs": [],
   "source": [
    "summ.drop(['author','date','read_more','text'],axis=1,inplace=True)"
   ]
  },
  {
   "cell_type": "code",
   "execution_count": 287,
   "metadata": {},
   "outputs": [
    {
     "data": {
      "text/html": [
       "<div>\n",
       "<style scoped>\n",
       "    .dataframe tbody tr th:only-of-type {\n",
       "        vertical-align: middle;\n",
       "    }\n",
       "\n",
       "    .dataframe tbody tr th {\n",
       "        vertical-align: top;\n",
       "    }\n",
       "\n",
       "    .dataframe thead th {\n",
       "        text-align: right;\n",
       "    }\n",
       "</style>\n",
       "<table border=\"1\" class=\"dataframe\">\n",
       "  <thead>\n",
       "    <tr style=\"text-align: right;\">\n",
       "      <th></th>\n",
       "      <th>headlines</th>\n",
       "      <th>ctext</th>\n",
       "    </tr>\n",
       "  </thead>\n",
       "  <tbody>\n",
       "    <tr>\n",
       "      <th>0</th>\n",
       "      <td>Daman &amp; Diu revokes mandatory Rakshabandhan in...</td>\n",
       "      <td>The Daman and Diu administration on Wednesday ...</td>\n",
       "    </tr>\n",
       "    <tr>\n",
       "      <th>1</th>\n",
       "      <td>Malaika slams user who trolled her for 'divorc...</td>\n",
       "      <td>From her special numbers to TV?appearances, Bo...</td>\n",
       "    </tr>\n",
       "    <tr>\n",
       "      <th>2</th>\n",
       "      <td>'Virgin' now corrected to 'Unmarried' in IGIMS...</td>\n",
       "      <td>The Indira Gandhi Institute of Medical Science...</td>\n",
       "    </tr>\n",
       "    <tr>\n",
       "      <th>3</th>\n",
       "      <td>Aaj aapne pakad liya: LeT man Dujana before be...</td>\n",
       "      <td>Lashkar-e-Taiba's Kashmir commander Abu Dujana...</td>\n",
       "    </tr>\n",
       "    <tr>\n",
       "      <th>4</th>\n",
       "      <td>Hotel staff to get training to spot signs of s...</td>\n",
       "      <td>Hotels in Mumbai and other Indian cities are t...</td>\n",
       "    </tr>\n",
       "  </tbody>\n",
       "</table>\n",
       "</div>"
      ],
      "text/plain": [
       "                                           headlines  \\\n",
       "0  Daman & Diu revokes mandatory Rakshabandhan in...   \n",
       "1  Malaika slams user who trolled her for 'divorc...   \n",
       "2  'Virgin' now corrected to 'Unmarried' in IGIMS...   \n",
       "3  Aaj aapne pakad liya: LeT man Dujana before be...   \n",
       "4  Hotel staff to get training to spot signs of s...   \n",
       "\n",
       "                                               ctext  \n",
       "0  The Daman and Diu administration on Wednesday ...  \n",
       "1  From her special numbers to TV?appearances, Bo...  \n",
       "2  The Indira Gandhi Institute of Medical Science...  \n",
       "3  Lashkar-e-Taiba's Kashmir commander Abu Dujana...  \n",
       "4  Hotels in Mumbai and other Indian cities are t...  "
      ]
     },
     "execution_count": 287,
     "metadata": {},
     "output_type": "execute_result"
    }
   ],
   "source": [
    "summ.head()"
   ]
  },
  {
   "cell_type": "markdown",
   "metadata": {},
   "source": [
    "# Creating word dictionaries, for word embedding(Ignore, used glove embeddings)"
   ]
  },
  {
   "cell_type": "raw",
   "metadata": {},
   "source": [
    "word_to_int=dict() "
   ]
  },
  {
   "cell_type": "raw",
   "metadata": {},
   "source": [
    "word_set=set()\n",
    "cnt=Counter()"
   ]
  },
  {
   "cell_type": "raw",
   "metadata": {},
   "source": [
    "summary=[]\n",
    "\n",
    "passage=[]\n",
    "for i in summ['headlines']:\n",
    "    summary.append(wordpunct_tokenize(i))\n",
    "#     summary_word=np.append(summary_word,wordpunct_tokenize(i))\n",
    "    \n",
    "for i in summ['ctext']:\n",
    "#     passage.append(wordpunct_tokenize(i))\n",
    "    passage.append(wordpunct_tokenize(str(i)))\n",
    "#     passage_word=np.append(passage_word,wordpunct_tokenize(str(i)))\n",
    "summary=np.asarray(summary)\n",
    "passage=np.asarray(passage)"
   ]
  },
  {
   "cell_type": "raw",
   "metadata": {},
   "source": [
    "for i in range(summary.shape[0]):\n",
    "    for j in range(len(summary[i])):\n",
    "        cnt[summary[i][j]]+=1\n",
    "    \n",
    "for i in range(passage.shape[0]):\n",
    "    for j in range(len(passage[i])):\n",
    "        cnt[passage[i][j]]+=1"
   ]
  },
  {
   "cell_type": "raw",
   "metadata": {},
   "source": [
    "common=cnt.most_common(1000000)\n",
    "common=[x[0] for x in common]\n",
    "# common=commonn\n"
   ]
  },
  {
   "cell_type": "raw",
   "metadata": {},
   "source": [
    "for i in range(len(common)):\n",
    "    word_to_int[common[i]]=i"
   ]
  },
  {
   "cell_type": "raw",
   "metadata": {},
   "source": [
    "word_to_int.items()"
   ]
  },
  {
   "cell_type": "raw",
   "metadata": {},
   "source": [
    "np.save(word_to_int,'dictionary')"
   ]
  },
  {
   "cell_type": "markdown",
   "metadata": {},
   "source": [
    "# Using Glove embedding to form word vector"
   ]
  },
  {
   "cell_type": "code",
   "execution_count": 288,
   "metadata": {},
   "outputs": [],
   "source": [
    "embeddings=open('glove.6B.100d.txt','r')"
   ]
  },
  {
   "cell_type": "code",
   "execution_count": 289,
   "metadata": {},
   "outputs": [],
   "source": [
    "word_embeddings={}\n",
    "word_list=[]\n",
    "embed_list=[]"
   ]
  },
  {
   "cell_type": "code",
   "execution_count": 290,
   "metadata": {},
   "outputs": [
    {
     "data": {
      "text/plain": [
       "(0,)"
      ]
     },
     "execution_count": 290,
     "metadata": {},
     "output_type": "execute_result"
    }
   ],
   "source": [
    "np.shape(word_list)"
   ]
  },
  {
   "cell_type": "code",
   "execution_count": 291,
   "metadata": {},
   "outputs": [],
   "source": [
    "for line in embeddings:\n",
    "  \n",
    "    splitline=line.split()\n",
    "    words=splitline[0]\n",
    "    word_list.append(words)\n",
    "    embeddings=np.array([float(i) for i in splitline[1:]])\n",
    "    embed_list.append(embeddings)\n",
    "    word_embeddings[words]=embeddings\n",
    "    "
   ]
  },
  {
   "cell_type": "code",
   "execution_count": 292,
   "metadata": {},
   "outputs": [],
   "source": [
    "word_list=np.array(word_list)\n",
    "embed_list=np.array(embed_list)"
   ]
  },
  {
   "cell_type": "code",
   "execution_count": 293,
   "metadata": {},
   "outputs": [],
   "source": [
    "int_to_word=dict((x,y) for (x,y) in enumerate(word_list))\n",
    "word_to_int=dict((y,x) for (x,y) in enumerate(word_list))"
   ]
  },
  {
   "cell_type": "code",
   "execution_count": 294,
   "metadata": {},
   "outputs": [
    {
     "data": {
      "text/plain": [
       "'hello'"
      ]
     },
     "execution_count": 294,
     "metadata": {},
     "output_type": "execute_result"
    }
   ],
   "source": [
    "int_to_word[13075]"
   ]
  },
  {
   "cell_type": "markdown",
   "metadata": {},
   "source": [
    "# Entire Summary and Text have been converted to embeddings, now time to feed em in Encoder and Decoder"
   ]
  },
  {
   "cell_type": "code",
   "execution_count": 295,
   "metadata": {},
   "outputs": [],
   "source": [
    "summary=[]\n",
    "\n",
    "passage=[]\n",
    "for i in summ['headlines']:\n",
    "    now=wordpunct_tokenize(i)\n",
    "    now=[i.lower() for i in now]\n",
    "    summary.append(now)\n",
    "#     summary_word=np.append(summary_word,wordpunct_tokenize(i))\n",
    "    \n",
    "for i in summ['ctext']:\n",
    "#     passage.append(wordpunct_tokenize(i))\n",
    "    now=wordpunct_tokenize(str(i))\n",
    "    now=[i.lower() for i in now]\n",
    "    passage.append(now)\n",
    "#     passage_word=np.append(passage_word,wordpunct_tokenize(str(i)))\n",
    "# summary=np.array(summary)\n",
    "# passage=np.array(passage)"
   ]
  },
  {
   "cell_type": "markdown",
   "metadata": {},
   "source": [
    "### So, for now encoder and decoder will be a single layer, with around 20 units each, scaling as moving through"
   ]
  },
  {
   "cell_type": "raw",
   "metadata": {},
   "source": [
    "Series of steps\n",
    "1. Define Encoder shape and Encoder inputs\n",
    "2. Define Decoder targets and Decoder logits\n",
    "3. LSTM encoder architecutre\n",
    "4. LSTM Decoder Architecture\n"
   ]
  },
  {
   "cell_type": "markdown",
   "metadata": {},
   "source": [
    "## Lets shape the input dataset for feeding it in the network"
   ]
  },
  {
   "cell_type": "code",
   "execution_count": 209,
   "metadata": {},
   "outputs": [
    {
     "data": {
      "text/plain": [
       "12"
      ]
     },
     "execution_count": 209,
     "metadata": {},
     "output_type": "execute_result"
    }
   ],
   "source": [
    "len(summary[1])"
   ]
  },
  {
   "cell_type": "code",
   "execution_count": 210,
   "metadata": {},
   "outputs": [
    {
     "data": {
      "text/plain": [
       "26828"
      ]
     },
     "execution_count": 210,
     "metadata": {},
     "output_type": "execute_result"
    }
   ],
   "source": [
    "word_to_int['eos']"
   ]
  },
  {
   "cell_type": "code",
   "execution_count": 211,
   "metadata": {},
   "outputs": [
    {
     "data": {
      "text/plain": [
       "(4514,)"
      ]
     },
     "execution_count": 211,
     "metadata": {},
     "output_type": "execute_result"
    }
   ],
   "source": [
    "np.shape(summary)"
   ]
  },
  {
   "cell_type": "code",
   "execution_count": 212,
   "metadata": {},
   "outputs": [],
   "source": [
    "EOS='eos'\n",
    "pad='0'\n",
    "\n",
    "epochs=500\n",
    "\n",
    "vocab_size = 400000\n",
    "input_embedding_size = 100\n",
    "divi=2257\n",
    "timesteps=int(len(summary)/divi)\n",
    "\n",
    "encoder_hidden_units = 20\n",
    "decoder_hidden_units = encoder_hidden_units"
   ]
  },
  {
   "cell_type": "markdown",
   "metadata": {},
   "source": [
    "#### Making sequence length for dynamic rnn"
   ]
  },
  {
   "cell_type": "code",
   "execution_count": 213,
   "metadata": {},
   "outputs": [],
   "source": [
    "enc_len=[]\n",
    "dec_len=[]\n",
    "\n",
    "for i in range(len(summary)):\n",
    "    dec_len.append(len(summary[i]))\n",
    "    \n",
    "for i in range(len(passage)):\n",
    "    enc_len.append(len(passage[i]))\n",
    "    \n",
    "# enc_len=np.reshape(enc_len,(divi,-1))\n",
    "enc_len = [enc_len[x:x+timesteps] for x in range(0, len(passage),timesteps)]\n",
    "dec_len = [dec_len[x:x+timesteps] for x in range(0, len(summary),timesteps)]\n",
    "\n",
    "\n",
    "# dec_len=np.reshape(dec_len,(divi,-1))"
   ]
  },
  {
   "cell_type": "code",
   "execution_count": 214,
   "metadata": {},
   "outputs": [],
   "source": [
    "# dec_len[0]"
   ]
  },
  {
   "cell_type": "markdown",
   "metadata": {},
   "source": [
    "#### Making batches of input data for deciding maximum length in a batch"
   ]
  },
  {
   "cell_type": "code",
   "execution_count": 215,
   "metadata": {},
   "outputs": [],
   "source": [
    "# feed_enc=np.asarray(np.split(passage,divi))#As divi is a factor of 4514 and not very small\n",
    "# feed_dec=np.asarray(np.split(summary,divi))\n",
    "\n",
    "feed_enc = [passage[x:x+timesteps] for x in range(0, len(passage),timesteps)]\n",
    "feed_dec = [summary[x:x+timesteps] for x in range(0, len(summary),timesteps)]\n",
    "\n",
    "\n",
    "\n"
   ]
  },
  {
   "cell_type": "code",
   "execution_count": 216,
   "metadata": {},
   "outputs": [
    {
     "data": {
      "text/plain": [
       "(477,)"
      ]
     },
     "execution_count": 216,
     "metadata": {},
     "output_type": "execute_result"
    }
   ],
   "source": [
    "np.shape(feed_enc[0][1])"
   ]
  },
  {
   "cell_type": "code",
   "execution_count": 217,
   "metadata": {},
   "outputs": [],
   "source": [
    "\n",
    "maxlen_enc=np.asarray([max([len(feed_enc[i][j]) for j in range(len(feed_enc[i])) ]) for i in range(len(feed_enc))])\n",
    "\n",
    "maxlen_dec=np.asarray([max([len(feed_dec[i][j]) for j in range(len(feed_dec[i])) ]) for i in range(len(feed_dec))])"
   ]
  },
  {
   "cell_type": "code",
   "execution_count": 218,
   "metadata": {
    "scrolled": true
   },
   "outputs": [
    {
     "data": {
      "text/plain": [
       "(2257,)"
      ]
     },
     "execution_count": 218,
     "metadata": {},
     "output_type": "execute_result"
    }
   ],
   "source": [
    "maxlen_enc.shape"
   ]
  },
  {
   "cell_type": "code",
   "execution_count": 219,
   "metadata": {},
   "outputs": [
    {
     "data": {
      "text/plain": [
       "425"
      ]
     },
     "execution_count": 219,
     "metadata": {},
     "output_type": "execute_result"
    }
   ],
   "source": [
    "len(feed_enc[0][0])"
   ]
  },
  {
   "cell_type": "markdown",
   "metadata": {},
   "source": [
    "## Now we gotta pad the batch, according to maximum length"
   ]
  },
  {
   "cell_type": "code",
   "execution_count": 220,
   "metadata": {},
   "outputs": [],
   "source": [
    "for i in range(divi):\n",
    "    for j in range(timesteps):\n",
    "        \n",
    "        feed_enc[i][j]+=(pad *(maxlen_enc[i]-len(feed_enc[i][j])))\n",
    "        feed_dec[i][j]+=(pad *(maxlen_dec[i]-len(feed_dec[i][j])))"
   ]
  },
  {
   "cell_type": "code",
   "execution_count": 221,
   "metadata": {},
   "outputs": [
    {
     "data": {
      "text/plain": [
       "(2257, 2)"
      ]
     },
     "execution_count": 221,
     "metadata": {},
     "output_type": "execute_result"
    }
   ],
   "source": [
    "np.shape(feed_enc)"
   ]
  },
  {
   "cell_type": "code",
   "execution_count": 222,
   "metadata": {},
   "outputs": [],
   "source": [
    "for i in range(len(feed_enc)):\n",
    "    for j in range(len(feed_enc[i])):\n",
    "        for k in range(len(feed_enc[i][j])):\n",
    "            if feed_enc[i][j][k] in word_embeddings:\n",
    "                feed_enc[i][j][k]=word_to_int[feed_enc[i][j][k]]\n",
    "            else:\n",
    "                feed_enc[i][j][k]=word_to_int['unk']\n",
    "        \n",
    "        "
   ]
  },
  {
   "cell_type": "code",
   "execution_count": 223,
   "metadata": {},
   "outputs": [],
   "source": [
    "for i in range(len(feed_dec)):\n",
    "    for j in range(len(feed_dec[i])):\n",
    "        for k in range(len(feed_dec[i][j])):\n",
    "            if feed_dec[i][j][k] in word_embeddings:\n",
    "                feed_dec[i][j][k]=word_to_int[feed_dec[i][j][k]]\n",
    "            else:\n",
    "                feed_dec[i][j][k]=word_to_int['unk']\n",
    "        \n",
    "        "
   ]
  },
  {
   "cell_type": "code",
   "execution_count": 224,
   "metadata": {},
   "outputs": [],
   "source": [
    "#What we'll feed in encoder\n",
    "tf.reset_default_graph()\n",
    "\n",
    "encoder_input=tf.placeholder(dtype=tf.int32,shape=[None,None])\n",
    "enc_timestep=tf.placeholder(dtype=tf.int32,shape=[None])\n",
    "decoder_targets=tf.placeholder(dtype=tf.int32,shape=[None,None])\n",
    "dec_timestep=tf.placeholder(dtype=tf.int32,shape=[None])\n",
    "decoder_input=tf.placeholder(dtype=tf.int32,shape=[None,None])\n",
    "\n"
   ]
  },
  {
   "cell_type": "code",
   "execution_count": 225,
   "metadata": {},
   "outputs": [],
   "source": [
    "emb_enc=tf.nn.embedding_lookup(embed_list,encoder_input)\n",
    "emb_dec=tf.nn.embedding_lookup(embed_list,decoder_input)"
   ]
  },
  {
   "cell_type": "code",
   "execution_count": 226,
   "metadata": {},
   "outputs": [],
   "source": [
    "encoder_cell=tf.nn.rnn_cell.BasicLSTMCell(encoder_hidden_units)\n",
    "decoder_cell=tf.nn.rnn_cell.BasicLSTMCell(decoder_hidden_units)"
   ]
  },
  {
   "cell_type": "code",
   "execution_count": 227,
   "metadata": {
    "scrolled": true
   },
   "outputs": [
    {
     "data": {
      "text/plain": [
       "TensorShape([Dimension(None), Dimension(None), Dimension(100)])"
      ]
     },
     "execution_count": 227,
     "metadata": {},
     "output_type": "execute_result"
    }
   ],
   "source": [
    "emb_enc.shape"
   ]
  },
  {
   "cell_type": "code",
   "execution_count": 228,
   "metadata": {},
   "outputs": [],
   "source": [
    "encoder_outputs,encoder_final_state=tf.nn.dynamic_rnn(encoder_cell,\n",
    "                                                     emb_enc,\n",
    "                                                      sequence_length=enc_timestep,\n",
    "                                                      dtype=tf.float64,\n",
    "                                                     )"
   ]
  },
  {
   "cell_type": "code",
   "execution_count": 229,
   "metadata": {},
   "outputs": [],
   "source": [
    "\n",
    "'''Ofc, shape of encoder_outputs is somewhat like, \n",
    "batch_size,timesteps,number of cells.\n",
    "Now we wanna feed it in decoder.\n",
    "'''\n",
    "\n",
    "decoder_outputs,decoder_final_state=tf.nn.dynamic_rnn(decoder_cell,\n",
    "                                                     emb_dec,\n",
    "#                                                       sequence_length=dec_timestep,\n",
    "                                                     initial_state=encoder_final_state,\n",
    "                                                      dtype=tf.float64,\n",
    "                                                      scope='decoder'\n",
    "                                                     )\n",
    "\n"
   ]
  },
  {
   "cell_type": "code",
   "execution_count": 230,
   "metadata": {},
   "outputs": [
    {
     "data": {
      "text/plain": [
       "(477,)"
      ]
     },
     "execution_count": 230,
     "metadata": {},
     "output_type": "execute_result"
    }
   ],
   "source": [
    "np.shape(feed_enc[0][1])"
   ]
  },
  {
   "cell_type": "code",
   "execution_count": 231,
   "metadata": {},
   "outputs": [
    {
     "data": {
      "text/plain": [
       "(2, 13)"
      ]
     },
     "execution_count": 231,
     "metadata": {},
     "output_type": "execute_result"
    }
   ],
   "source": [
    "np.shape(feed_dec[1])"
   ]
  },
  {
   "cell_type": "code",
   "execution_count": 232,
   "metadata": {},
   "outputs": [],
   "source": [
    "decoder_logits=tf.layers.dense(decoder_outputs,vocab_size)"
   ]
  },
  {
   "cell_type": "code",
   "execution_count": 233,
   "metadata": {},
   "outputs": [],
   "source": [
    "decoder_prediction=tf.argmax(decoder_logits,axis=2)"
   ]
  },
  {
   "cell_type": "code",
   "execution_count": 234,
   "metadata": {},
   "outputs": [],
   "source": [
    "cross_entropy=tf.nn.softmax_cross_entropy_with_logits_v2(\n",
    "                                                        labels=tf.one_hot(decoder_targets,depth=vocab_size,dtype=tf.float32),\n",
    "                                                        logits=decoder_logits)\n",
    "loss=tf.reduce_mean(cross_entropy)\n",
    "train_operation=tf.train.AdamOptimizer().minimize(loss)"
   ]
  },
  {
   "cell_type": "code",
   "execution_count": 235,
   "metadata": {},
   "outputs": [
    {
     "data": {
      "text/plain": [
       "[0,\n",
       " 72876,\n",
       " 5,\n",
       " 84868,\n",
       " 466,\n",
       " 13,\n",
       " 177,\n",
       " 4899,\n",
       " 7,\n",
       " 9713,\n",
       " 12,\n",
       " 476,\n",
       " 266,\n",
       " 821,\n",
       " 4,\n",
       " 2668,\n",
       " 201534,\n",
       " 13,\n",
       " 2323,\n",
       " 3296,\n",
       " 49,\n",
       " 0,\n",
       " 460,\n",
       " 4609,\n",
       " 7,\n",
       " 10608,\n",
       " 25,\n",
       " 1242,\n",
       " 5,\n",
       " 15,\n",
       " 8366,\n",
       " 2725,\n",
       " 13,\n",
       " 659,\n",
       " 493,\n",
       " 2,\n",
       " 0,\n",
       " 354,\n",
       " 1456,\n",
       " 188,\n",
       " 1534,\n",
       " 466,\n",
       " 15,\n",
       " 1011,\n",
       " 4,\n",
       " 5963,\n",
       " 425,\n",
       " 795,\n",
       " 606,\n",
       " 3,\n",
       " 7728,\n",
       " 0,\n",
       " 9713,\n",
       " 12,\n",
       " 116,\n",
       " 20,\n",
       " 12009,\n",
       " 10,\n",
       " 47,\n",
       " 821,\n",
       " 4,\n",
       " 4686,\n",
       " 201534,\n",
       " 22,\n",
       " 9069,\n",
       " 201534,\n",
       " 20,\n",
       " 31,\n",
       " 51,\n",
       " 847,\n",
       " 4,\n",
       " 4686,\n",
       " 0,\n",
       " 1427,\n",
       " 3,\n",
       " 201534,\n",
       " 13,\n",
       " 510,\n",
       " 632,\n",
       " 2,\n",
       " 6,\n",
       " 37,\n",
       " 2540,\n",
       " 1,\n",
       " 64,\n",
       " 2087,\n",
       " 274,\n",
       " 4630,\n",
       " 5284,\n",
       " 944,\n",
       " 310,\n",
       " 5,\n",
       " 4686,\n",
       " 0,\n",
       " 1427,\n",
       " 11266,\n",
       " 22,\n",
       " 7,\n",
       " 7088,\n",
       " 79,\n",
       " 21640,\n",
       " 64,\n",
       " 0,\n",
       " 2791,\n",
       " 821,\n",
       " 5284,\n",
       " 2668,\n",
       " 201534,\n",
       " 4,\n",
       " 44,\n",
       " 3296,\n",
       " 201534,\n",
       " 0,\n",
       " 460,\n",
       " 1,\n",
       " 1101,\n",
       " 13,\n",
       " 510,\n",
       " 176,\n",
       " 21,\n",
       " 210669,\n",
       " 3678,\n",
       " 1,\n",
       " 1056,\n",
       " 497,\n",
       " 23,\n",
       " 2075,\n",
       " 201534,\n",
       " 40,\n",
       " 16,\n",
       " 2,\n",
       " 4,\n",
       " 1810,\n",
       " 12,\n",
       " 84,\n",
       " 48,\n",
       " 14990,\n",
       " 283,\n",
       " 1,\n",
       " 29,\n",
       " 5414,\n",
       " 255,\n",
       " 15,\n",
       " 4,\n",
       " 30,\n",
       " 688,\n",
       " 4,\n",
       " 0,\n",
       " 78,\n",
       " 0,\n",
       " 182,\n",
       " 1738,\n",
       " 2,\n",
       " 0,\n",
       " 55,\n",
       " 51033,\n",
       " 188,\n",
       " 48,\n",
       " 31295,\n",
       " 0,\n",
       " 4618,\n",
       " 3,\n",
       " 201534,\n",
       " 23,\n",
       " 218,\n",
       " 24,\n",
       " 5,\n",
       " 0,\n",
       " 68,\n",
       " 9626,\n",
       " 0,\n",
       " 4401,\n",
       " 23,\n",
       " 248,\n",
       " 24,\n",
       " 188,\n",
       " 35,\n",
       " 1101,\n",
       " 21,\n",
       " 0,\n",
       " 72876,\n",
       " 5,\n",
       " 84868,\n",
       " 466,\n",
       " 7,\n",
       " 122,\n",
       " 2725,\n",
       " 2,\n",
       " 0,\n",
       " 9713,\n",
       " 15,\n",
       " 6782,\n",
       " 131,\n",
       " 7,\n",
       " 48,\n",
       " 11,\n",
       " 331,\n",
       " 460,\n",
       " 1101,\n",
       " 288,\n",
       " 6,\n",
       " 0,\n",
       " 1738,\n",
       " 21,\n",
       " 0,\n",
       " 16924,\n",
       " 188,\n",
       " 1534,\n",
       " 358,\n",
       " 3,\n",
       " 2075,\n",
       " 5,\n",
       " 2352,\n",
       " 2257,\n",
       " 201534,\n",
       " 0,\n",
       " 9713,\n",
       " 14,\n",
       " 10435,\n",
       " 2,\n",
       " 63,\n",
       " 32,\n",
       " 30017,\n",
       " 791,\n",
       " 2,\n",
       " 197,\n",
       " 86,\n",
       " 0,\n",
       " 78,\n",
       " 15350,\n",
       " 38,\n",
       " 41,\n",
       " 189,\n",
       " 2668,\n",
       " 166355,\n",
       " 4,\n",
       " 188,\n",
       " 53,\n",
       " 189,\n",
       " 2188,\n",
       " 0,\n",
       " 19326,\n",
       " 3,\n",
       " 7,\n",
       " 9069,\n",
       " 188,\n",
       " 29,\n",
       " 239,\n",
       " 154,\n",
       " 28715,\n",
       " 246,\n",
       " 350,\n",
       " 6,\n",
       " 0,\n",
       " 122,\n",
       " 2,\n",
       " 67,\n",
       " 1285,\n",
       " 4,\n",
       " 30,\n",
       " 1757,\n",
       " 2,\n",
       " 0,\n",
       " 3995,\n",
       " 15,\n",
       " 1101,\n",
       " 13,\n",
       " 72876,\n",
       " 5,\n",
       " 84868,\n",
       " 5808,\n",
       " 5,\n",
       " 157,\n",
       " 12195,\n",
       " 163,\n",
       " 141,\n",
       " 122256,\n",
       " 201534,\n",
       " 14332,\n",
       " 188,\n",
       " 1534,\n",
       " 2191,\n",
       " 1,\n",
       " 1099,\n",
       " 16,\n",
       " 2,\n",
       " 201534,\n",
       " 1,\n",
       " 7,\n",
       " 4618,\n",
       " 3,\n",
       " 0,\n",
       " 1846,\n",
       " 118,\n",
       " 1955,\n",
       " 5,\n",
       " 4731,\n",
       " 1,\n",
       " 14,\n",
       " 48,\n",
       " 3,\n",
       " 201,\n",
       " 5021,\n",
       " 12995,\n",
       " 5,\n",
       " 12859,\n",
       " 12,\n",
       " 32,\n",
       " 84,\n",
       " 1078,\n",
       " 8485,\n",
       " 3,\n",
       " 672,\n",
       " 1,\n",
       " 213,\n",
       " 1206,\n",
       " 34,\n",
       " 33,\n",
       " 399,\n",
       " 4315,\n",
       " 4,\n",
       " 1966,\n",
       " 51757,\n",
       " 318,\n",
       " 27560,\n",
       " 2,\n",
       " 6,\n",
       " 6644,\n",
       " 1,\n",
       " 0,\n",
       " 62,\n",
       " 13201,\n",
       " 8021,\n",
       " 4,\n",
       " 268,\n",
       " 22,\n",
       " 0,\n",
       " 1437,\n",
       " 1,\n",
       " 64122,\n",
       " 119294,\n",
       " 58914,\n",
       " 23,\n",
       " 24031,\n",
       " 24,\n",
       " 276,\n",
       " 26068,\n",
       " 115581,\n",
       " 16,\n",
       " 0,\n",
       " 1427,\n",
       " 40,\n",
       " 188,\n",
       " 121,\n",
       " 5668,\n",
       " 188,\n",
       " 5,\n",
       " 189,\n",
       " 30,\n",
       " 4273,\n",
       " 1799,\n",
       " 188,\n",
       " 4,\n",
       " 1508,\n",
       " 5021,\n",
       " 1295,\n",
       " 5,\n",
       " 682,\n",
       " 21,\n",
       " 0,\n",
       " 2896,\n",
       " 21075,\n",
       " 6,\n",
       " 20,\n",
       " 201534,\n",
       " 0,\n",
       " 24031,\n",
       " 14,\n",
       " 0,\n",
       " 9360,\n",
       " 3792,\n",
       " 3,\n",
       " 0,\n",
       " 1081,\n",
       " 13201,\n",
       " 2,\n",
       " 76,\n",
       " 62,\n",
       " 1,\n",
       " 266,\n",
       " 1401,\n",
       " 6,\n",
       " 0,\n",
       " 29247,\n",
       " 78,\n",
       " 388,\n",
       " 4,\n",
       " 0,\n",
       " 718,\n",
       " 619,\n",
       " 4,\n",
       " 4686,\n",
       " 0,\n",
       " 1427,\n",
       " 17,\n",
       " 666,\n",
       " 2,\n",
       " 7,\n",
       " 62,\n",
       " 106,\n",
       " 1,\n",
       " 64,\n",
       " 1360,\n",
       " 1401,\n",
       " 35,\n",
       " 476,\n",
       " 4,\n",
       " 242,\n",
       " 4,\n",
       " 44,\n",
       " 10195,\n",
       " 10,\n",
       " 0,\n",
       " 1427,\n",
       " 2,\n",
       " 1343,\n",
       " 1343,\n",
       " 1343,\n",
       " 1343,\n",
       " 1343,\n",
       " 1343,\n",
       " 1343,\n",
       " 1343,\n",
       " 1343,\n",
       " 1343,\n",
       " 1343,\n",
       " 1343,\n",
       " 1343,\n",
       " 1343,\n",
       " 1343,\n",
       " 1343,\n",
       " 1343,\n",
       " 1343,\n",
       " 1343,\n",
       " 1343,\n",
       " 1343,\n",
       " 1343,\n",
       " 1343,\n",
       " 1343,\n",
       " 1343,\n",
       " 1343,\n",
       " 1343,\n",
       " 1343,\n",
       " 1343,\n",
       " 1343,\n",
       " 1343,\n",
       " 1343,\n",
       " 1343,\n",
       " 1343,\n",
       " 1343,\n",
       " 1343,\n",
       " 1343,\n",
       " 1343,\n",
       " 1343,\n",
       " 1343,\n",
       " 1343,\n",
       " 1343,\n",
       " 1343,\n",
       " 1343,\n",
       " 1343,\n",
       " 1343,\n",
       " 1343,\n",
       " 1343,\n",
       " 1343,\n",
       " 1343,\n",
       " 1343,\n",
       " 1343]"
      ]
     },
     "execution_count": 235,
     "metadata": {},
     "output_type": "execute_result"
    }
   ],
   "source": [
    "feed_enc[0][0]"
   ]
  },
  {
   "cell_type": "code",
   "execution_count": 236,
   "metadata": {},
   "outputs": [
    {
     "name": "stdout",
     "output_type": "stream",
     "text": [
      "INFO:tensorflow:Restoring parameters from models/model.ckpt\n",
      "4.4624903012884785\n"
     ]
    }
   ],
   "source": [
    "saver=tf.train.Saver()\n",
    "loss_track=[]\n",
    "x=False\n",
    "with tf.Session() as sess:\n",
    "    sess.run(tf.global_variables_initializer())\n",
    "    if(tf.train.checkpoint_exists(\"models/model.ckpt\")):\n",
    "        saver.restore(sess, \"models/model.ckpt\")\n",
    "    for j in range(1):\n",
    "        for i in range(1):\n",
    "            target=[(sequence)+[word_to_int[EOS]] for sequence in feed_dec[i]]\n",
    "            dinput=[[word_to_int[EOS]]+(sequence) for sequence in feed_dec[i]]\n",
    "            \n",
    "            losss,train=sess.run([loss,train_operation],feed_dict={encoder_input:feed_enc[i],\n",
    "                                                                           enc_timestep:enc_len[i],\n",
    "                                                                   decoder_input:dinput,\n",
    "                                                                   decoder_targets:target\n",
    "                                                    \n",
    "                                                                           \n",
    "                                                                          } )\n",
    "            print(losss)\n",
    "            loss_track.append(losss)\n",
    "# #         save=saver.save(sess, \"models/model.ckpt\")\n",
    "        \n",
    "#             x=tf.train.save_path = saver.save(sess, \"/tmp/model.ckpt\")\n",
    "#             x=tf.train.checkpoint_exists(\"/tmp/model.ckpt\")\n",
    "\n",
    "\n",
    "           \n",
    "# dec_output,state=sess.run([decoder_outputs,decoder_final_state],feed_dict={})\n",
    "            \n",
    "\n",
    "\n",
    "# For each batch, consider last batch with 122 samples. So enc_len[-1][121]=319. So this will mean that till 318, thats \n",
    "# coz index start from 0. We'll have values, after which we'll have 0, as we've specified enc_len, which is going to make\n",
    "# sure that after 318 we don't factor things in our further calculations.\n",
    "\n",
    "\n",
    "# ALso, for example in output here, with shape 122,1384,20 and state.h having shape of 122,20. lets take example of \n",
    "# last batch, 2nd sample, that's output[1][99](as enc_len[-1][1] as value of 99) will have same value as \n",
    "# state.h[1]. As state.h just finds last value of rnn and output is value of rnn at all timesteps for all cells,\n",
    "# np.save('loss.npy',np.array(loss_track))\n",
    "\n"
   ]
  },
  {
   "cell_type": "markdown",
   "metadata": {},
   "source": [
    "## Prediction"
   ]
  },
  {
   "cell_type": "code",
   "execution_count": 275,
   "metadata": {},
   "outputs": [
    {
     "name": "stdout",
     "output_type": "stream",
     "text": [
      "INFO:tensorflow:Restoring parameters from models/model.ckpt\n",
      "4.4624903012884785\n",
      "[[['unk' 'kumar' 'govt' 'revokes' '2' 'for' \"'\" 'delhi' 'in' '0' '0' '0'\n",
      "   '0']\n",
      "  ['unk' 'arora' 'sonakshi' 'to' \"'\" 'for' \"'\" 'hospitality' 'divorcing'\n",
      "   \"'\" 'theatres' '0' '0']]]\n",
      "4.4624903012884785\n",
      "[[['unk' 's' '-' 's' \"'\" 'to' 'be' 'saviour' \"'\" 's' 'unk' '0' '0' '0']\n",
      "  ['aaj' '-' 'pakad' 'liya' ',' 'santa' 'to' 'shot' ',' 'reintroducing'\n",
      "   'india' '0' '0' '0']]]\n",
      "4.4624903012884785\n",
      "[[['unk' 'kumar' 'govt' 'revokes' '2' 'for' \"'\" 'delhi' 'in' '0' '0' '0'\n",
      "   '0']\n",
      "  ['unk' 'arora' 'sonakshi' 'to' \"'\" 'for' \"'\" 'hospitality' 'divorcing'\n",
      "   \"'\" 'theatres' '0' '0']]]\n",
      "4.4624903012884785\n",
      "[[['unk' 's' '-' 's' \"'\" 'to' 'be' 'saviour' \"'\" 's' 'unk' '0' '0' '0']\n",
      "  ['aaj' '-' 'pakad' 'liya' ',' 'santa' 'to' 'shot' ',' 'reintroducing'\n",
      "   'india' '0' '0' '0']]]\n",
      "4.4624903012884785\n",
      "[[['unk' 'kumar' 'govt' 'revokes' '2' 'for' \"'\" 'delhi' 'in' '0' '0' '0'\n",
      "   '0']\n",
      "  ['unk' 'arora' 'sonakshi' 'to' \"'\" 'for' \"'\" 'hospitality' 'divorcing'\n",
      "   \"'\" 'theatres' '0' '0']]]\n",
      "4.4624903012884785\n",
      "[[['unk' 's' '-' 's' \"'\" 'to' 'be' 'saviour' \"'\" 's' 'unk' '0' '0' '0']\n",
      "  ['aaj' '-' 'pakad' 'liya' ',' 'santa' 'to' 'shot' ',' 'reintroducing'\n",
      "   'india' '0' '0' '0']]]\n",
      "4.4624903012884785\n",
      "[[['unk' 'kumar' 'govt' 'revokes' '2' 'for' \"'\" 'delhi' 'in' '0' '0' '0'\n",
      "   '0']\n",
      "  ['unk' 'arora' 'sonakshi' 'to' \"'\" 'for' \"'\" 'hospitality' 'divorcing'\n",
      "   \"'\" 'theatres' '0' '0']]]\n",
      "4.4624903012884785\n",
      "[[['unk' 's' '-' 's' \"'\" 'to' 'be' 'saviour' \"'\" 's' 'unk' '0' '0' '0']\n",
      "  ['aaj' '-' 'pakad' 'liya' ',' 'santa' 'to' 'shot' ',' 'reintroducing'\n",
      "   'india' '0' '0' '0']]]\n",
      "4.4624903012884785\n",
      "[[['unk' 'kumar' 'govt' 'revokes' '2' 'for' \"'\" 'delhi' 'in' '0' '0' '0'\n",
      "   '0']\n",
      "  ['unk' 'arora' 'sonakshi' 'to' \"'\" 'for' \"'\" 'hospitality' 'divorcing'\n",
      "   \"'\" 'theatres' '0' '0']]]\n",
      "4.4624903012884785\n",
      "[[['unk' 's' '-' 's' \"'\" 'to' 'be' 'saviour' \"'\" 's' 'unk' '0' '0' '0']\n",
      "  ['aaj' '-' 'pakad' 'liya' ',' 'santa' 'to' 'shot' ',' 'reintroducing'\n",
      "   'india' '0' '0' '0']]]\n",
      "4.4624903012884785\n",
      "[[['unk' 'kumar' 'govt' 'revokes' '2' 'for' \"'\" 'delhi' 'in' '0' '0' '0'\n",
      "   '0']\n",
      "  ['unk' 'arora' 'sonakshi' 'to' \"'\" 'for' \"'\" 'hospitality' 'divorcing'\n",
      "   \"'\" 'theatres' '0' '0']]]\n",
      "4.4624903012884785\n",
      "[[['unk' 's' '-' 's' \"'\" 'to' 'be' 'saviour' \"'\" 's' 'unk' '0' '0' '0']\n",
      "  ['aaj' '-' 'pakad' 'liya' ',' 'santa' 'to' 'shot' ',' 'reintroducing'\n",
      "   'india' '0' '0' '0']]]\n",
      "4.4624903012884785\n",
      "[[['unk' 'kumar' 'govt' 'revokes' '2' 'for' \"'\" 'delhi' 'in' '0' '0' '0'\n",
      "   '0']\n",
      "  ['unk' 'arora' 'sonakshi' 'to' \"'\" 'for' \"'\" 'hospitality' 'divorcing'\n",
      "   \"'\" 'theatres' '0' '0']]]\n",
      "4.4624903012884785\n",
      "[[['unk' 's' '-' 's' \"'\" 'to' 'be' 'saviour' \"'\" 's' 'unk' '0' '0' '0']\n",
      "  ['aaj' '-' 'pakad' 'liya' ',' 'santa' 'to' 'shot' ',' 'reintroducing'\n",
      "   'india' '0' '0' '0']]]\n",
      "4.4624903012884785\n",
      "[[['unk' 'kumar' 'govt' 'revokes' '2' 'for' \"'\" 'delhi' 'in' '0' '0' '0'\n",
      "   '0']\n",
      "  ['unk' 'arora' 'sonakshi' 'to' \"'\" 'for' \"'\" 'hospitality' 'divorcing'\n",
      "   \"'\" 'theatres' '0' '0']]]\n",
      "4.4624903012884785\n",
      "[[['unk' 's' '-' 's' \"'\" 'to' 'be' 'saviour' \"'\" 's' 'unk' '0' '0' '0']\n",
      "  ['aaj' '-' 'pakad' 'liya' ',' 'santa' 'to' 'shot' ',' 'reintroducing'\n",
      "   'india' '0' '0' '0']]]\n",
      "4.4624903012884785\n",
      "[[['unk' 'kumar' 'govt' 'revokes' '2' 'for' \"'\" 'delhi' 'in' '0' '0' '0'\n",
      "   '0']\n",
      "  ['unk' 'arora' 'sonakshi' 'to' \"'\" 'for' \"'\" 'hospitality' 'divorcing'\n",
      "   \"'\" 'theatres' '0' '0']]]\n",
      "4.4624903012884785\n",
      "[[['unk' 's' '-' 's' \"'\" 'to' 'be' 'saviour' \"'\" 's' 'unk' '0' '0' '0']\n",
      "  ['aaj' '-' 'pakad' 'liya' ',' 'santa' 'to' 'shot' ',' 'reintroducing'\n",
      "   'india' '0' '0' '0']]]\n",
      "4.4624903012884785\n",
      "[[['unk' 'kumar' 'govt' 'revokes' '2' 'for' \"'\" 'delhi' 'in' '0' '0' '0'\n",
      "   '0']\n",
      "  ['unk' 'arora' 'sonakshi' 'to' \"'\" 'for' \"'\" 'hospitality' 'divorcing'\n",
      "   \"'\" 'theatres' '0' '0']]]\n",
      "4.4624903012884785\n",
      "[[['unk' 's' '-' 's' \"'\" 'to' 'be' 'saviour' \"'\" 's' 'unk' '0' '0' '0']\n",
      "  ['aaj' '-' 'pakad' 'liya' ',' 'santa' 'to' 'shot' ',' 'reintroducing'\n",
      "   'india' '0' '0' '0']]]\n"
     ]
    }
   ],
   "source": [
    "saver=tf.train.Saver()\n",
    "loss_track=[]\n",
    "pred=[]\n",
    "x=False\n",
    "with tf.Session() as sess:\n",
    "    sess.run(tf.global_variables_initializer())\n",
    "    if(tf.train.checkpoint_exists(\"models/model.ckpt\")):\n",
    "        saver.restore(sess, \"models/model.ckpt\")\n",
    "    for j in range(10):\n",
    "        for i in range(2):\n",
    "            target=[(sequence)+[word_to_int[EOS]] for sequence in feed_dec[i]]\n",
    "            dinput=[[word_to_int[EOS]]+(sequence) for sequence in feed_dec[i]]\n",
    "            \n",
    "            prediction=sess.run([decoder_prediction],feed_dict={encoder_input:feed_enc[i],\n",
    "                                                                           enc_timestep:enc_len[i],\n",
    "                                                                   decoder_input:dinput\n",
    "                                                    \n",
    "                                                                           \n",
    "                                                                          } )\n",
    "            print(losss)\n",
    "            new=np.asarray(prediction,dtype=object)\n",
    "\n",
    "            for i in range(len(prediction)):\n",
    "                for j in range(len(prediction[i])):\n",
    "                    for k in range(len(prediction[i][j])):\n",
    "                            new[i][j][k]=int_to_word[prediction[i][j][k]]\n",
    "\n",
    "            print(new)\n",
    "            loss_track.append(losss)\n",
    "            pred.append(prediction)\n",
    "# #         save=saver.save(sess, \"models/model.ckpt\")\n",
    "        \n",
    "#             x=tf.train.save_path = saver.save(sess, \"/tmp/model.ckpt\")\n",
    "#             x=tf.train.checkpoint_exists(\"/tmp/model.ckpt\")\n",
    "\n",
    "\n",
    "           \n",
    "# dec_output,state=sess.run([decoder_outputs,decoder_final_state],feed_dict={})\n",
    "            \n",
    "\n",
    "\n",
    "# For each batch, consider last batch with 122 samples. So enc_len[-1][121]=319. So this will mean that till 318, thats \n",
    "# coz index start from 0. We'll have values, after which we'll have 0, as we've specified enc_len, which is going to make\n",
    "# sure that after 318 we don't factor things in our further calculations.\n",
    "\n",
    "\n",
    "# ALso, for example in output here, with shape 122,1384,20 and state.h having shape of 122,20. lets take example of \n",
    "# last batch, 2nd sample, that's output[1][99](as enc_len[-1][1] as value of 99) will have same value as \n",
    "# state.h[1]. As state.h just finds last value of rnn and output is value of rnn at all timesteps for all cells,\n",
    "# np.save('loss.npy',np.array(loss_track))\n",
    "\n"
   ]
  },
  {
   "cell_type": "code",
   "execution_count": 296,
   "metadata": {},
   "outputs": [
    {
     "data": {
      "text/plain": [
       "['the',\n",
       " 'daman',\n",
       " 'and',\n",
       " 'diu',\n",
       " 'administration',\n",
       " 'on',\n",
       " 'wednesday',\n",
       " 'withdrew',\n",
       " 'a',\n",
       " 'circular',\n",
       " 'that',\n",
       " 'asked',\n",
       " 'women',\n",
       " 'staff',\n",
       " 'to',\n",
       " 'tie',\n",
       " 'rakhis',\n",
       " 'on',\n",
       " 'male',\n",
       " 'colleagues',\n",
       " 'after',\n",
       " 'the',\n",
       " 'order',\n",
       " 'triggered',\n",
       " 'a',\n",
       " 'backlash',\n",
       " 'from',\n",
       " 'employees',\n",
       " 'and',\n",
       " 'was',\n",
       " 'ripped',\n",
       " 'apart',\n",
       " 'on',\n",
       " 'social',\n",
       " 'media',\n",
       " '.',\n",
       " 'the',\n",
       " 'union',\n",
       " 'territory',\n",
       " '?',\n",
       " 's',\n",
       " 'administration',\n",
       " 'was',\n",
       " 'forced',\n",
       " 'to',\n",
       " 'retreat',\n",
       " 'within',\n",
       " '24',\n",
       " 'hours',\n",
       " 'of',\n",
       " 'issuing',\n",
       " 'the',\n",
       " 'circular',\n",
       " 'that',\n",
       " 'made',\n",
       " 'it',\n",
       " 'compulsory',\n",
       " 'for',\n",
       " 'its',\n",
       " 'staff',\n",
       " 'to',\n",
       " 'celebrate',\n",
       " 'rakshabandhan',\n",
       " 'at',\n",
       " 'workplace',\n",
       " '.?',\n",
       " 'it',\n",
       " 'has',\n",
       " 'been',\n",
       " 'decided',\n",
       " 'to',\n",
       " 'celebrate',\n",
       " 'the',\n",
       " 'festival',\n",
       " 'of',\n",
       " 'rakshabandhan',\n",
       " 'on',\n",
       " 'august',\n",
       " '7',\n",
       " '.',\n",
       " 'in',\n",
       " 'this',\n",
       " 'connection',\n",
       " ',',\n",
       " 'all',\n",
       " 'offices',\n",
       " '/',\n",
       " 'departments',\n",
       " 'shall',\n",
       " 'remain',\n",
       " 'open',\n",
       " 'and',\n",
       " 'celebrate',\n",
       " 'the',\n",
       " 'festival',\n",
       " 'collectively',\n",
       " 'at',\n",
       " 'a',\n",
       " 'suitable',\n",
       " 'time',\n",
       " 'wherein',\n",
       " 'all',\n",
       " 'the',\n",
       " 'lady',\n",
       " 'staff',\n",
       " 'shall',\n",
       " 'tie',\n",
       " 'rakhis',\n",
       " 'to',\n",
       " 'their',\n",
       " 'colleagues',\n",
       " ',?',\n",
       " 'the',\n",
       " 'order',\n",
       " ',',\n",
       " 'issued',\n",
       " 'on',\n",
       " 'august',\n",
       " '1',\n",
       " 'by',\n",
       " 'gurpreet',\n",
       " 'singh',\n",
       " ',',\n",
       " 'deputy',\n",
       " 'secretary',\n",
       " '(',\n",
       " 'personnel',\n",
       " '),',\n",
       " 'had',\n",
       " 'said',\n",
       " '.',\n",
       " 'to',\n",
       " 'ensure',\n",
       " 'that',\n",
       " 'no',\n",
       " 'one',\n",
       " 'skipped',\n",
       " 'office',\n",
       " ',',\n",
       " 'an',\n",
       " 'attendance',\n",
       " 'report',\n",
       " 'was',\n",
       " 'to',\n",
       " 'be',\n",
       " 'sent',\n",
       " 'to',\n",
       " 'the',\n",
       " 'government',\n",
       " 'the',\n",
       " 'next',\n",
       " 'evening',\n",
       " '.',\n",
       " 'the',\n",
       " 'two',\n",
       " 'notifications',\n",
       " '?',\n",
       " 'one',\n",
       " 'mandating',\n",
       " 'the',\n",
       " 'celebration',\n",
       " 'of',\n",
       " 'rakshabandhan',\n",
       " '(',\n",
       " 'left',\n",
       " ')',\n",
       " 'and',\n",
       " 'the',\n",
       " 'other',\n",
       " 'withdrawing',\n",
       " 'the',\n",
       " 'mandate',\n",
       " '(',\n",
       " 'right',\n",
       " ')',\n",
       " '?',\n",
       " 'were',\n",
       " 'issued',\n",
       " 'by',\n",
       " 'the',\n",
       " 'daman',\n",
       " 'and',\n",
       " 'diu',\n",
       " 'administration',\n",
       " 'a',\n",
       " 'day',\n",
       " 'apart',\n",
       " '.',\n",
       " 'the',\n",
       " 'circular',\n",
       " 'was',\n",
       " 'withdrawn',\n",
       " 'through',\n",
       " 'a',\n",
       " 'one',\n",
       " '-',\n",
       " 'line',\n",
       " 'order',\n",
       " 'issued',\n",
       " 'late',\n",
       " 'in',\n",
       " 'the',\n",
       " 'evening',\n",
       " 'by',\n",
       " 'the',\n",
       " 'ut',\n",
       " '?',\n",
       " 's',\n",
       " 'department',\n",
       " 'of',\n",
       " 'personnel',\n",
       " 'and',\n",
       " 'administrative',\n",
       " 'reforms',\n",
       " '.?',\n",
       " 'the',\n",
       " 'circular',\n",
       " 'is',\n",
       " 'ridiculous',\n",
       " '.',\n",
       " 'there',\n",
       " 'are',\n",
       " 'sensitivities',\n",
       " 'involved',\n",
       " '.',\n",
       " 'how',\n",
       " 'can',\n",
       " 'the',\n",
       " 'government',\n",
       " 'dictate',\n",
       " 'who',\n",
       " 'i',\n",
       " 'should',\n",
       " 'tie',\n",
       " 'rakhi',\n",
       " 'to',\n",
       " '?',\n",
       " 'we',\n",
       " 'should',\n",
       " 'maintain',\n",
       " 'the',\n",
       " 'professionalism',\n",
       " 'of',\n",
       " 'a',\n",
       " 'workplace',\n",
       " '?',\n",
       " 'an',\n",
       " 'official',\n",
       " 'told',\n",
       " 'hindustan',\n",
       " 'times',\n",
       " 'earlier',\n",
       " 'in',\n",
       " 'the',\n",
       " 'day',\n",
       " '.',\n",
       " 'she',\n",
       " 'refused',\n",
       " 'to',\n",
       " 'be',\n",
       " 'identified',\n",
       " '.',\n",
       " 'the',\n",
       " 'notice',\n",
       " 'was',\n",
       " 'issued',\n",
       " 'on',\n",
       " 'daman',\n",
       " 'and',\n",
       " 'diu',\n",
       " 'administrator',\n",
       " 'and',\n",
       " 'former',\n",
       " 'gujarat',\n",
       " 'home',\n",
       " 'minister',\n",
       " 'praful',\n",
       " 'kodabhai',\n",
       " 'patel',\n",
       " '?',\n",
       " 's',\n",
       " 'direction',\n",
       " ',',\n",
       " 'sources',\n",
       " 'said',\n",
       " '.',\n",
       " 'rakshabandhan',\n",
       " ',',\n",
       " 'a',\n",
       " 'celebration',\n",
       " 'of',\n",
       " 'the',\n",
       " 'bond',\n",
       " 'between',\n",
       " 'brothers',\n",
       " 'and',\n",
       " 'sisters',\n",
       " ',',\n",
       " 'is',\n",
       " 'one',\n",
       " 'of',\n",
       " 'several',\n",
       " 'hindu',\n",
       " 'festivities',\n",
       " 'and',\n",
       " 'rituals',\n",
       " 'that',\n",
       " 'are',\n",
       " 'no',\n",
       " 'longer',\n",
       " 'confined',\n",
       " 'of',\n",
       " 'private',\n",
       " ',',\n",
       " 'family',\n",
       " 'affairs',\n",
       " 'but',\n",
       " 'have',\n",
       " 'become',\n",
       " 'tools',\n",
       " 'to',\n",
       " 'push',\n",
       " 'politic',\n",
       " 'al',\n",
       " 'ideologies',\n",
       " '.',\n",
       " 'in',\n",
       " '2014',\n",
       " ',',\n",
       " 'the',\n",
       " 'year',\n",
       " 'bjp',\n",
       " 'stormed',\n",
       " 'to',\n",
       " 'power',\n",
       " 'at',\n",
       " 'the',\n",
       " 'centre',\n",
       " ',',\n",
       " 'rashtriya',\n",
       " 'swayamsevak',\n",
       " 'sangh',\n",
       " '(',\n",
       " 'rss',\n",
       " ')',\n",
       " 'chief',\n",
       " 'mohan',\n",
       " 'bhagwat',\n",
       " 'said',\n",
       " 'the',\n",
       " 'festival',\n",
       " 'had',\n",
       " '?',\n",
       " 'national',\n",
       " 'significance',\n",
       " '?',\n",
       " 'and',\n",
       " 'should',\n",
       " 'be',\n",
       " 'celebrated',\n",
       " 'widely',\n",
       " '?',\n",
       " 'to',\n",
       " 'protect',\n",
       " 'hindu',\n",
       " 'culture',\n",
       " 'and',\n",
       " 'live',\n",
       " 'by',\n",
       " 'the',\n",
       " 'values',\n",
       " 'enshrined',\n",
       " 'in',\n",
       " 'it',\n",
       " '?.',\n",
       " 'the',\n",
       " 'rss',\n",
       " 'is',\n",
       " 'the',\n",
       " 'ideological',\n",
       " 'parent',\n",
       " 'of',\n",
       " 'the',\n",
       " 'ruling',\n",
       " 'bjp',\n",
       " '.',\n",
       " 'last',\n",
       " 'year',\n",
       " ',',\n",
       " 'women',\n",
       " 'ministers',\n",
       " 'in',\n",
       " 'the',\n",
       " 'modi',\n",
       " 'government',\n",
       " 'went',\n",
       " 'to',\n",
       " 'the',\n",
       " 'border',\n",
       " 'areas',\n",
       " 'to',\n",
       " 'celebrate',\n",
       " 'the',\n",
       " 'festival',\n",
       " 'with',\n",
       " 'soldiers',\n",
       " '.',\n",
       " 'a',\n",
       " 'year',\n",
       " 'before',\n",
       " ',',\n",
       " 'all',\n",
       " 'cabinet',\n",
       " 'ministers',\n",
       " 'were',\n",
       " 'asked',\n",
       " 'to',\n",
       " 'go',\n",
       " 'to',\n",
       " 'their',\n",
       " 'constituencies',\n",
       " 'for',\n",
       " 'the',\n",
       " 'festival',\n",
       " '.']"
      ]
     },
     "execution_count": 296,
     "metadata": {},
     "output_type": "execute_result"
    }
   ],
   "source": [
    "passage[0]"
   ]
  },
  {
   "cell_type": "code",
   "execution_count": 270,
   "metadata": {},
   "outputs": [
    {
     "ename": "ValueError",
     "evalue": "could not broadcast input array from shape (2,13) into shape (2)",
     "output_type": "error",
     "traceback": [
      "\u001b[0;31m---------------------------------------------------------------------------\u001b[0m",
      "\u001b[0;31mAttributeError\u001b[0m                            Traceback (most recent call last)",
      "\u001b[0;32m/usr/local/lib/python3.5/dist-packages/numpy/core/fromnumeric.py\u001b[0m in \u001b[0;36mshape\u001b[0;34m(a)\u001b[0m\n\u001b[1;32m   1651\u001b[0m     \u001b[0;32mtry\u001b[0m\u001b[0;34m:\u001b[0m\u001b[0;34m\u001b[0m\u001b[0m\n\u001b[0;32m-> 1652\u001b[0;31m         \u001b[0mresult\u001b[0m \u001b[0;34m=\u001b[0m \u001b[0ma\u001b[0m\u001b[0;34m.\u001b[0m\u001b[0mshape\u001b[0m\u001b[0;34m\u001b[0m\u001b[0m\n\u001b[0m\u001b[1;32m   1653\u001b[0m     \u001b[0;32mexcept\u001b[0m \u001b[0mAttributeError\u001b[0m\u001b[0;34m:\u001b[0m\u001b[0;34m\u001b[0m\u001b[0m\n",
      "\u001b[0;31mAttributeError\u001b[0m: 'list' object has no attribute 'shape'",
      "\nDuring handling of the above exception, another exception occurred:\n",
      "\u001b[0;31mValueError\u001b[0m                                Traceback (most recent call last)",
      "\u001b[0;32m<ipython-input-270-556000105ffc>\u001b[0m in \u001b[0;36m<module>\u001b[0;34m()\u001b[0m\n\u001b[0;32m----> 1\u001b[0;31m \u001b[0mnp\u001b[0m\u001b[0;34m.\u001b[0m\u001b[0mshape\u001b[0m\u001b[0;34m(\u001b[0m\u001b[0mpred\u001b[0m\u001b[0;34m)\u001b[0m\u001b[0;34m\u001b[0m\u001b[0m\n\u001b[0m",
      "\u001b[0;32m/usr/local/lib/python3.5/dist-packages/numpy/core/fromnumeric.py\u001b[0m in \u001b[0;36mshape\u001b[0;34m(a)\u001b[0m\n\u001b[1;32m   1652\u001b[0m         \u001b[0mresult\u001b[0m \u001b[0;34m=\u001b[0m \u001b[0ma\u001b[0m\u001b[0;34m.\u001b[0m\u001b[0mshape\u001b[0m\u001b[0;34m\u001b[0m\u001b[0m\n\u001b[1;32m   1653\u001b[0m     \u001b[0;32mexcept\u001b[0m \u001b[0mAttributeError\u001b[0m\u001b[0;34m:\u001b[0m\u001b[0;34m\u001b[0m\u001b[0m\n\u001b[0;32m-> 1654\u001b[0;31m         \u001b[0mresult\u001b[0m \u001b[0;34m=\u001b[0m \u001b[0masarray\u001b[0m\u001b[0;34m(\u001b[0m\u001b[0ma\u001b[0m\u001b[0;34m)\u001b[0m\u001b[0;34m.\u001b[0m\u001b[0mshape\u001b[0m\u001b[0;34m\u001b[0m\u001b[0m\n\u001b[0m\u001b[1;32m   1655\u001b[0m     \u001b[0;32mreturn\u001b[0m \u001b[0mresult\u001b[0m\u001b[0;34m\u001b[0m\u001b[0m\n\u001b[1;32m   1656\u001b[0m \u001b[0;34m\u001b[0m\u001b[0m\n",
      "\u001b[0;32m/usr/local/lib/python3.5/dist-packages/numpy/core/numeric.py\u001b[0m in \u001b[0;36masarray\u001b[0;34m(a, dtype, order)\u001b[0m\n\u001b[1;32m    490\u001b[0m \u001b[0;34m\u001b[0m\u001b[0m\n\u001b[1;32m    491\u001b[0m     \"\"\"\n\u001b[0;32m--> 492\u001b[0;31m     \u001b[0;32mreturn\u001b[0m \u001b[0marray\u001b[0m\u001b[0;34m(\u001b[0m\u001b[0ma\u001b[0m\u001b[0;34m,\u001b[0m \u001b[0mdtype\u001b[0m\u001b[0;34m,\u001b[0m \u001b[0mcopy\u001b[0m\u001b[0;34m=\u001b[0m\u001b[0;32mFalse\u001b[0m\u001b[0;34m,\u001b[0m \u001b[0morder\u001b[0m\u001b[0;34m=\u001b[0m\u001b[0morder\u001b[0m\u001b[0;34m)\u001b[0m\u001b[0;34m\u001b[0m\u001b[0m\n\u001b[0m\u001b[1;32m    493\u001b[0m \u001b[0;34m\u001b[0m\u001b[0m\n\u001b[1;32m    494\u001b[0m \u001b[0;34m\u001b[0m\u001b[0m\n",
      "\u001b[0;31mValueError\u001b[0m: could not broadcast input array from shape (2,13) into shape (2)"
     ]
    }
   ],
   "source": [
    "np.shape(pred)"
   ]
  },
  {
   "cell_type": "code",
   "execution_count": 271,
   "metadata": {},
   "outputs": [
    {
     "data": {
      "text/plain": [
       "array([ 66214,     11, 373804, 165300,      1,   2669,      4,    635,\n",
       "            1,  64600,    474,   1343,   1343,   1343])"
      ]
     },
     "execution_count": 271,
     "metadata": {},
     "output_type": "execute_result"
    }
   ],
   "source": [
    "prediction[0][1]"
   ]
  },
  {
   "cell_type": "code",
   "execution_count": 272,
   "metadata": {},
   "outputs": [
    {
     "ename": "ValueError",
     "evalue": "could not broadcast input array from shape (2,13) into shape (2)",
     "output_type": "error",
     "traceback": [
      "\u001b[0;31m---------------------------------------------------------------------------\u001b[0m",
      "\u001b[0;31mValueError\u001b[0m                                Traceback (most recent call last)",
      "\u001b[0;32m<ipython-input-272-1708524741f2>\u001b[0m in \u001b[0;36m<module>\u001b[0;34m()\u001b[0m\n\u001b[0;32m----> 1\u001b[0;31m \u001b[0mnew\u001b[0m\u001b[0;34m=\u001b[0m\u001b[0mnp\u001b[0m\u001b[0;34m.\u001b[0m\u001b[0masarray\u001b[0m\u001b[0;34m(\u001b[0m\u001b[0mpred\u001b[0m\u001b[0;34m,\u001b[0m\u001b[0mdtype\u001b[0m\u001b[0;34m=\u001b[0m\u001b[0mobject\u001b[0m\u001b[0;34m)\u001b[0m\u001b[0;34m\u001b[0m\u001b[0m\n\u001b[0m",
      "\u001b[0;32m/usr/local/lib/python3.5/dist-packages/numpy/core/numeric.py\u001b[0m in \u001b[0;36masarray\u001b[0;34m(a, dtype, order)\u001b[0m\n\u001b[1;32m    490\u001b[0m \u001b[0;34m\u001b[0m\u001b[0m\n\u001b[1;32m    491\u001b[0m     \"\"\"\n\u001b[0;32m--> 492\u001b[0;31m     \u001b[0;32mreturn\u001b[0m \u001b[0marray\u001b[0m\u001b[0;34m(\u001b[0m\u001b[0ma\u001b[0m\u001b[0;34m,\u001b[0m \u001b[0mdtype\u001b[0m\u001b[0;34m,\u001b[0m \u001b[0mcopy\u001b[0m\u001b[0;34m=\u001b[0m\u001b[0;32mFalse\u001b[0m\u001b[0;34m,\u001b[0m \u001b[0morder\u001b[0m\u001b[0;34m=\u001b[0m\u001b[0morder\u001b[0m\u001b[0;34m)\u001b[0m\u001b[0;34m\u001b[0m\u001b[0m\n\u001b[0m\u001b[1;32m    493\u001b[0m \u001b[0;34m\u001b[0m\u001b[0m\n\u001b[1;32m    494\u001b[0m \u001b[0;34m\u001b[0m\u001b[0m\n",
      "\u001b[0;31mValueError\u001b[0m: could not broadcast input array from shape (2,13) into shape (2)"
     ]
    }
   ],
   "source": [
    "new=np.asarray(prediction,dtype=object)"
   ]
  },
  {
   "cell_type": "code",
   "execution_count": 273,
   "metadata": {},
   "outputs": [],
   "source": [
    "new=np.asarray(prediction,dtype=object)\n",
    "\n",
    "for i in range(len(prediction)):\n",
    "    for j in range(len(prediction[i])):\n",
    "        for k in range(len(prediction[i][j])):\n",
    "                new[i][j][k]=int_to_word[prediction[i][j][k]]\n",
    "                \n",
    "print(new)"
   ]
  },
  {
   "cell_type": "code",
   "execution_count": 274,
   "metadata": {},
   "outputs": [
    {
     "data": {
      "text/plain": [
       "array([[['unk', 's', '-', 's', \"'\", 'to', 'be', 'saviour', \"'\", 's',\n",
       "         'unk', '0', '0', '0'],\n",
       "        ['aaj', '-', 'pakad', 'liya', ',', 'santa', 'to', 'shot', ',',\n",
       "         'reintroducing', 'india', '0', '0', '0']]], dtype=object)"
      ]
     },
     "execution_count": 274,
     "metadata": {},
     "output_type": "execute_result"
    }
   ],
   "source": [
    "\n",
    "new"
   ]
  },
  {
   "cell_type": "code",
   "execution_count": null,
   "metadata": {},
   "outputs": [],
   "source": []
  },
  {
   "cell_type": "code",
   "execution_count": null,
   "metadata": {},
   "outputs": [],
   "source": []
  },
  {
   "cell_type": "code",
   "execution_count": null,
   "metadata": {},
   "outputs": [],
   "source": []
  }
 ],
 "metadata": {
  "kernelspec": {
   "display_name": "Python 3",
   "language": "python",
   "name": "python3"
  },
  "language_info": {
   "codemirror_mode": {
    "name": "ipython",
    "version": 3
   },
   "file_extension": ".py",
   "mimetype": "text/x-python",
   "name": "python",
   "nbconvert_exporter": "python",
   "pygments_lexer": "ipython3",
   "version": "3.5.2"
  }
 },
 "nbformat": 4,
 "nbformat_minor": 2
}
